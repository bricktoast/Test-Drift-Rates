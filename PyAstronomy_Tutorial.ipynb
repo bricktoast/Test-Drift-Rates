{
  "nbformat": 4,
  "nbformat_minor": 0,
  "metadata": {
    "colab": {
      "name": "PyAstronomy_Tutorial.ipynb",
      "provenance": [],
      "authorship_tag": "ABX9TyP6DH4lIwgod3C7tVASIVF/",
      "include_colab_link": true
    },
    "kernelspec": {
      "name": "python3",
      "display_name": "Python 3"
    },
    "language_info": {
      "name": "python"
    }
  },
  "cells": [
    {
      "cell_type": "markdown",
      "metadata": {
        "id": "view-in-github",
        "colab_type": "text"
      },
      "source": [
        "<a href=\"https://colab.research.google.com/github/bricktoast/Test-Drift-Rates/blob/main/PyAstronomy_Tutorial.ipynb\" target=\"_parent\"><img src=\"https://colab.research.google.com/assets/colab-badge.svg\" alt=\"Open In Colab\"/></a>"
      ]
    },
    {
      "cell_type": "code",
      "metadata": {
        "id": "ivkIwuAOb6Zq"
      },
      "source": [
        "#general utility packages\n",
        "import numpy as np\n",
        "import matplotlib.pyplot as plt\n",
        "\n",
        "#nice modules from astropy\n",
        "import astropy.units as u\n",
        "import astropy.constants as const\n",
        "\n",
        "#remind matplotlib how to do 3D plotting\n",
        "from mpl_toolkits.mplot3d import Axes3D"
      ],
      "execution_count": 3,
      "outputs": []
    },
    {
      "cell_type": "code",
      "metadata": {
        "colab": {
          "base_uri": "https://localhost:8080/"
        },
        "id": "r5fhCQ25ae_w",
        "outputId": "6595c660-b248-4828-86a2-409a7b826b9b"
      },
      "source": [
        "!pip install PyAstronomy\n",
        "import PyAstronomy\n",
        "from PyAstronomy import pyasl"
      ],
      "execution_count": 5,
      "outputs": [
        {
          "output_type": "stream",
          "text": [
            "Requirement already satisfied: PyAstronomy in /usr/local/lib/python3.7/dist-packages (0.16.0)\n",
            "Requirement already satisfied: numpy in /usr/local/lib/python3.7/dist-packages (from PyAstronomy) (1.19.5)\n",
            "Requirement already satisfied: six in /usr/local/lib/python3.7/dist-packages (from PyAstronomy) (1.15.0)\n"
          ],
          "name": "stdout"
        }
      ]
    },
    {
      "cell_type": "code",
      "metadata": {
        "id": "dHwAftE_yLJJ"
      },
      "source": [
        "%matplotlib notebook"
      ],
      "execution_count": 6,
      "outputs": []
    },
    {
      "cell_type": "code",
      "metadata": {
        "id": "Op9H8lCMyhTj"
      },
      "source": [
        "G = const.G\n",
        "c = const.c"
      ],
      "execution_count": 7,
      "outputs": []
    },
    {
      "cell_type": "markdown",
      "metadata": {
        "id": "2ryaEPmtYo5P"
      },
      "source": [
        "Parameters should be in units of au, years, and degrees \n",
        "\n",
        "---\n",
        "\n",
        "\n",
        "e is the eccentricity of the orbit\n",
        "\n",
        "\n",
        "---\n",
        "\n",
        "omega is longitude of ascending node in degrees\n",
        "\n",
        "---\n",
        "\n",
        "\n",
        "i is inclination in degrees\n",
        "\n",
        "---\n",
        "\n",
        "w is argument is periapse in degrees\n",
        "\n",
        "\n",
        "---\n",
        "\n",
        "num_timestep is the number of data points to build the elipse\n",
        "\n",
        "\n",
        "---\n",
        "\n",
        "index is the number of the point you want to sample\n",
        "\n"
      ]
    },
    {
      "cell_type": "code",
      "metadata": {
        "id": "zWtdAZcxFPWD"
      },
      "source": [
        "# I decided to combine the building step and the sampling step because the \"build\" function would just be the same as the py.asl KE function\n",
        "def build_and_sample_ellipse(semimajor, period, e, omega, i, w, num_timestep, index):\n",
        "    ke = pyasl.KeplerEllipse(semimajor, period, e, Omega = omega,i = i,w = w)\n",
        "    # Build the ellipse\n",
        "    t = np.linspace(0, period, num_timestep)\n",
        "    # Make a time axis\n",
        "    pos = ke.xyzPos(t)\n",
        "    # Marks data points at each timestep\n",
        "    return 'x, y, z for point ' + str(index) + ':' + str(pos[index,::])\n"
      ],
      "execution_count": 33,
      "outputs": []
    },
    {
      "cell_type": "code",
      "metadata": {
        "colab": {
          "base_uri": "https://localhost:8080/"
        },
        "id": "985nbkbjcus7",
        "outputId": "780759a4-c62a-45da-9c4d-32462bc177a7"
      },
      "source": [
        "# Testing the function on the parameters from the example\n",
        "print(build_and_sample_ellipse(1, 1, 0.05, 0, 90, 0, 200, 50))"
      ],
      "execution_count": 34,
      "outputs": [
        {
          "output_type": "stream",
          "text": [
            "x, y, z for point 50:[-1.07777728e-01  6.10535892e-17  9.97080779e-01]\n"
          ],
          "name": "stdout"
        }
      ]
    },
    {
      "cell_type": "code",
      "metadata": {
        "id": "Vcw1wb4lgAP2"
      },
      "source": [
        ""
      ],
      "execution_count": null,
      "outputs": []
    }
  ]
}