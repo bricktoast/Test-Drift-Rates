{
 "cells": [
  {
   "cell_type": "markdown",
   "id": "51087472",
   "metadata": {},
   "source": [
    "The goal for this notebook is a streamlined, reproducable method of calculating the drift rates of all eligible planets in the NASA Exoplanet Database. \n",
    "\n",
    "There are 7 parameters necessary to calculate a planet's orbital drift rate: orbital period, semimajor axis, stellar mass, eccentricity, argument of periastron, inclination, and longitude of ascending node. As not all exoplanets have a measured value for each of these parameters, this notebook will provide methods to mitigate these insecurities."
   ]
  },
  {
   "cell_type": "code",
   "execution_count": 1,
   "id": "d3929d22",
   "metadata": {},
   "outputs": [
    {
     "name": "stdout",
     "output_type": "stream",
     "text": [
      "Requirement already satisfied: PyAstronomy in ./opt/anaconda3/lib/python3.8/site-packages (0.16.0)\r\n",
      "Requirement already satisfied: numpy in ./opt/anaconda3/lib/python3.8/site-packages (from PyAstronomy) (1.20.1)\r\n",
      "Requirement already satisfied: six in ./opt/anaconda3/lib/python3.8/site-packages (from PyAstronomy) (1.15.0)\r\n"
     ]
    }
   ],
   "source": [
    "#general utility packages\n",
    "import numpy as np\n",
    "import pandas as pd\n",
    "import matplotlib.pyplot as plt\n",
    "import random\n",
    "import csv\n",
    "from scipy.stats import beta\n",
    "\n",
    "#nice modules from astropy\n",
    "import astropy.units as u\n",
    "import astropy.constants as const\n",
    "\n",
    "#cool package that makes good ellipses\n",
    "!pip install PyAstronomy\n",
    "import PyAstronomy\n",
    "from PyAstronomy import pyasl\n",
    "\n",
    "#frequently used constants\n",
    "pi = np.pi\n",
    "G_units = const.G\n",
    "G = 6.67 * 10 **(-11)\n",
    "c_units = const.c\n",
    "c = 3 * 10**8"
   ]
  },
  {
   "cell_type": "markdown",
   "id": "6122fdec",
   "metadata": {},
   "source": [
    "## Data from the NASA Exoplanet Archive\n",
    "\n",
    "The data I will be using for this project comes from the [NASA Exoplanet Archive (NEA)](https://exoplanetarchive.ipac.caltech.edu/cgi-bin/TblView/nph-tblView?app=ExoTbls&config=PS&constraint=default_flag=1) which produces a nice spreadsheet. The column names I will be frequently using are:\n",
    "\n",
    "Stellar Mass (Solar Masses) = st_mass\n",
    "\n",
    "Stellar Radius = st_rad\n",
    "\n",
    "Planet Name = pl_name\n",
    "\n",
    "Planet Radius = pl_rade\n",
    "\n",
    "Planet Density (g/cm^3) = pl_dens\n",
    "\n",
    "Planet Mass (Earth Masses) = pl_masse\n",
    "\n",
    "Planet Temerature (K) = pl_eqt\n",
    "\n",
    "Semimajor Axis = pl_orbsmax\n",
    "\n",
    "Period in Days = pl_orbper\n",
    "\n",
    "Eccentricity = pl_orbeccen\n",
    "\n",
    "Inclination = pl_orbincl\n",
    "\n",
    "Argument of Periapse = pl_orblper\n",
    "\n",
    "Stellar Effective Temperature (K) = st_teff\n",
    "\n",
    "Discovery Method = discoverymethod\n",
    "\n",
    "Discovery Facility = disc_facility"
   ]
  },
  {
   "cell_type": "code",
   "execution_count": 3,
   "id": "42ef034c",
   "metadata": {},
   "outputs": [],
   "source": [
    "#Downloaded csv from NEA, currently at 4438 confirmed planets (7/27/21)\n",
    "df_all = pd.read_csv('/Users/megan/orbital_parameters_all.csv')\n",
    "#Available on Github as orbital_parameters_all.csv"
   ]
  },
  {
   "cell_type": "markdown",
   "id": "4758f31a",
   "metadata": {},
   "source": [
    "## Applying Kepler's Third Law\n",
    "\n",
    "Kepler's Third Law relates 3 of our necessary parameters to each other: stellar mass, semimajor axis, and orbital period. Thus, calculations can be run on any planet with 2/3 of these parameters measured to get the third one. In this step, that is what I will do. \n",
    "\n",
    "Planets that only have 1 out of these 3 cannot be used in this project. All three of these parameters are not presumed to be nicely distributed across some bound numbers (like other parameters are,) so I have no current methods of simulating these values. As of 8/3/21, this is only 30 planets out of 4455 planets, so I am counting this as a negligible loss to our sample. This section of the code also saves the planets that are not eligible to a text file."
   ]
  },
  {
   "cell_type": "code",
   "execution_count": 4,
   "id": "711706c3",
   "metadata": {},
   "outputs": [],
   "source": [
    "def keplers_third_law(df):\n",
    "    trashed_planets = []\n",
    "    df_solved = df\n",
    "    for index, row in df_solved.iterrows():\n",
    "        if pd.isna(row['pl_orbsmax']) == False and pd.isna(row['pl_orbper']) == False and pd.isna(row['st_mass']) == False:\n",
    "        #All 3 values have numbers, don't need to be solved or dropped\n",
    "            pass\n",
    "        elif pd.isna(row['pl_orbsmax']) == True and pd.isna(row['pl_orbper']) == True:\n",
    "            #2/3 missing, drop row\n",
    "            df_solved.drop(index = index, inplace = True)\n",
    "            trashed_planets.append(row['pl_name'])\n",
    "        elif pd.isna(row['pl_orbsmax']) == True and pd.isna(row['st_mass']) == True:\n",
    "            #2/3 missing, drop row\n",
    "            df_solved.drop(index = index, inplace = True)\n",
    "            trashed_planets.append(row['pl_name'])\n",
    "        elif pd.isna(row['pl_orbper']) == True and pd.isna(row['st_mass']) == True:\n",
    "            #2/3 missing, drop row  \n",
    "            df_solved.drop(index = index, inplace = True)\n",
    "            trashed_planets.append(row['pl_name'])\n",
    "        elif pd.isna(row['pl_orbsmax']) == True and pd.isna(row['pl_orbper']) == True and pd.isna(row['st_mass']) == True:\n",
    "            #3/3 missing, drop row\n",
    "            df_solved.drop(index = index, inplace = True)\n",
    "            trashed_planets.append(row['pl_name'])\n",
    "        elif pd.isna(row['pl_orbsmax']) == True and pd.isna(row['pl_orbper']) == False and pd.isna(row['st_mass']) == False:\n",
    "            #only semimajor axis is missing\n",
    "            df.loc[index, 'pl_orbsmax'] = (row['st_mass'] * (row['pl_orbper']/365)**2) **(1/3)\n",
    "            #Kepler's Third Law solved for semimajor axis\n",
    "        elif pd.isna(row['pl_orbper']) == True and pd.isna(row['pl_orbsmax']) == False and pd.isna(row['st_mass']) == False:\n",
    "            df.loc[index, 'pl_orbper'] = (row['pl_orbsmax']**3/(row['st_mass']))**(1/2)\n",
    "            #Kepler's Third Law solved for period\n",
    "        else:\n",
    "            df.loc[index, 'st_mass'] = row['pl_orbsmax']**3/(row['pl_orbper']/365)**2\n",
    "            #Kepler's Third Law solved for stellar mass\n",
    "    with open(\"trashed_planets.txt\", \"w\") as file:\n",
    "        file.write(str(trashed_planets))\n",
    "        #saving the trashed planets to an external file\n",
    "        print(len(trashed_planets))\n",
    "    return df_solved"
   ]
  },
  {
   "cell_type": "code",
   "execution_count": 5,
   "id": "6f72b9d8",
   "metadata": {},
   "outputs": [
    {
     "name": "stdout",
     "output_type": "stream",
     "text": [
      "30\n"
     ]
    }
   ],
   "source": [
    "df_kepler_solved = keplers_third_law(df_all)\n",
    "#Prints out the number of thrown out planets"
   ]
  },
  {
   "cell_type": "markdown",
   "id": "77e63001",
   "metadata": {},
   "source": [
    "## Randomly Assigned Values: Inclination, Argument of Periastron, and Longitude of Ascending Node\n",
    "\n",
    "An orbit's inclination, argument of periastron, and longitude of ascending node essentially have no rhyme or reason to be distributed a certain way, so I will simulate missing values for these angles to be random across all possible values. That is, from 0 to 360 degrees for argument of periastron and longitude of ascending node, and from -90 to 90 degrees for inclination."
   ]
  },
  {
   "cell_type": "code",
   "execution_count": 6,
   "id": "f0e42d39",
   "metadata": {},
   "outputs": [],
   "source": [
    "def assign_inclination(df):\n",
    "    df_inc = df\n",
    "    for index, row in df_inc.iterrows():\n",
    "        random_inc = random.uniform(-90, 90)\n",
    "        if pd.isna(row['pl_orbincl']) == True:\n",
    "        #If the inclination is null    \n",
    "            df.loc[index, 'pl_orbincl'] = random_inc\n",
    "    return df_inc"
   ]
  },
  {
   "cell_type": "code",
   "execution_count": 7,
   "id": "a81266d6",
   "metadata": {},
   "outputs": [],
   "source": [
    "df_kepler_inc = assign_inclination(df_kepler_solved)"
   ]
  },
  {
   "cell_type": "code",
   "execution_count": 8,
   "id": "7849c89a",
   "metadata": {},
   "outputs": [],
   "source": [
    "def assign_arg_of_peri(df):\n",
    "    df_aop = df\n",
    "    for index, row in df_aop.iterrows():\n",
    "        random_aop = random.uniform(0, 360)\n",
    "        if pd.isna(row['pl_orblper']) == True:\n",
    "        #If the argument of periastron is null    \n",
    "            df.loc[index, 'pl_orblper'] = random_aop\n",
    "    return df_aop"
   ]
  },
  {
   "cell_type": "code",
   "execution_count": 9,
   "id": "1b262d00",
   "metadata": {},
   "outputs": [],
   "source": [
    "df_kepler_inc_aop = assign_arg_of_peri(df_kepler_inc)"
   ]
  },
  {
   "cell_type": "code",
   "execution_count": 10,
   "id": "aea5743b",
   "metadata": {},
   "outputs": [],
   "source": [
    "#There are basically no measured longitudes of ascending node (only 4/~4500, so I'll just randomly assign all of them)\n",
    "def assign_long_of_asc_node(df):\n",
    "    df_loan = df\n",
    "    loans = []\n",
    "    for index in df_loan.iterrows():\n",
    "        random_loan = random.uniform(0, 360)\n",
    "        loans.append(random_loan)\n",
    "    df_loan['long_of_asc_node'] = loans\n",
    "    return df_loan"
   ]
  },
  {
   "cell_type": "code",
   "execution_count": 11,
   "id": "6ddcbcbf",
   "metadata": {},
   "outputs": [],
   "source": [
    "df_kepler_inc_aop_loan = assign_long_of_asc_node(df_kepler_inc_aop)"
   ]
  },
  {
   "cell_type": "markdown",
   "id": "922bbe82",
   "metadata": {},
   "source": [
    "## Eccentricity : Beta Distribution\n",
    "\n",
    "For unmeasured eccentricities, I will be pulling numbers from a beta distribution as described in [Kipping 2013](https://arxiv.org/abs/1306.4982)."
   ]
  },
  {
   "cell_type": "code",
   "execution_count": 12,
   "id": "80646ee2",
   "metadata": {},
   "outputs": [],
   "source": [
    "def assign_ecc(df):\n",
    "    df_ecc = df\n",
    "    for index, row in df_ecc.iterrows():\n",
    "        random_ecc = beta.rvs(0.867, 3.03)\n",
    "        if pd.isna(row['pl_orbeccen']) == True:\n",
    "        #If the eccentricity is null    \n",
    "            df.loc[index, 'pl_orbeccen'] = random_ecc\n",
    "    return df_ecc"
   ]
  },
  {
   "cell_type": "code",
   "execution_count": 13,
   "id": "bec4cbf8",
   "metadata": {},
   "outputs": [],
   "source": [
    "df_all = assign_ecc(df_kepler_inc_aop_loan)\n",
    "df_all.to_csv('all_orbital_parameters.csv')\n",
    "#Our dataframe is complete, so I am saving it to a csv to avoid having multiple versions running around \n",
    "#as many of the values would change each time the code is run"
   ]
  },
  {
   "cell_type": "markdown",
   "id": "216fdd36",
   "metadata": {},
   "source": [
    "## Calculating Drift Rates"
   ]
  },
  {
   "cell_type": "markdown",
   "id": "d111bc16",
   "metadata": {},
   "source": [
    "### Drift Rates Function\n",
    "\n",
    "The drift_rates function is the only computing function in the entire notebook. First, it builds an elliptical orbit based on the 7 orbital parameters and then samples this orbit num_timestep times. These samples return radial components, which are plugged into the gravitational accleration equation (GM/r^2) to get an acceleration at each of these points. Then, the function projects these acceleration vectors along the axis between the transmitter and the observer (Earth), and returns 200 scalar drift rates for each planet.\n",
    "\n",
    "Parameters should be in units of au, years, and degrees: \n",
    "\n",
    "e is the eccentricity of the orbit\n",
    "\n",
    "\n",
    "omega is longitude of ascending node in degrees\n",
    "\n",
    "\n",
    "i is inclination in degrees\n",
    "\n",
    "\n",
    "w is argument is periapse in degrees\n",
    "\n",
    "\n",
    "num_timestep is the number of data points to build the ellipse, I've been using 200"
   ]
  },
  {
   "cell_type": "code",
   "execution_count": 14,
   "id": "14d2e94d",
   "metadata": {},
   "outputs": [],
   "source": [
    "def drift_rates(semimajor, period, e, omega, i, w, stellar_mass, num_timestep):\n",
    "    ke = pyasl.KeplerEllipse(semimajor, period, e, Omega = omega,i = i,w = w)\n",
    "    # Build the ellipse\n",
    "    t = np.linspace(0, period, num_timestep)\n",
    "    # Make a time axis\n",
    "    pos = ke.xyzPos(t)\n",
    "    radius = ke.radius(t)\n",
    "    total_acc = G*stellar_mass*u.Msun/(radius* u.au)**2\n",
    "    z_acceleration_array = []\n",
    "    vector_to_earth = [0,0,1]\n",
    "    for i in range(0, num_timestep):\n",
    "        position_vector = ke.xyzPos(t)[i,:]\n",
    "        radius = ke.radius(t)\n",
    "        # vector from the origin (host star) to the point in the orbit\n",
    "        z_magnitude = np.dot(vector_to_earth, position_vector) / radius[i]\n",
    "        # normalized magnitude of the vector in the observer's direction - between -1 and 1\n",
    "        z_acceleration_array.append((z_magnitude * total_acc[i].si).value/c)\n",
    "    return z_acceleration_array"
   ]
  },
  {
   "cell_type": "markdown",
   "id": "841336bd",
   "metadata": {},
   "source": [
    "The next cell saves the drift rates in 2 separate csvs. This is the cell that **takes the longest time, around 5+ hours,** so I try to run this the fewest times possible. It only needs to be run every time there's an update to the NEA.\n",
    "\n",
    "#### 1st way: drift_rates_pl_name\n",
    "\n",
    "This csv saves an individual column for each planet where the title of the column is the planet's name. I use this csv/dataframe to sort out the drift rates by specific criteria such as discovery method, discovery facility, etc.\n",
    "\n",
    "#### 2nd way: drift_rates_column\n",
    "\n",
    "This csv is just one really long column with all 80000 or so drift rates. This csv/column is for plotting all the planets the same way."
   ]
  },
  {
   "cell_type": "code",
   "execution_count": 16,
   "id": "ff1bfd2e",
   "metadata": {},
   "outputs": [],
   "source": [
    "drift_rates_pl_name = pd.DataFrame()\n",
    "cumulative_drift_rates_list = []\n",
    "drift_rates_column = pd.DataFrame()\n",
    "for index, row in pd.read_csv('all_orbital_parameters.csv').iterrows():\n",
    "    drift_rates_list = drift_rates(row['pl_orbsmax'], row['pl_orbper']/365.25, row['pl_orbeccen'], row['long_of_asc_node'], row['pl_orbincl'], row['pl_orblper'], row['st_mass'], 200)\n",
    "    drift_rates_pl_name[row['pl_name']] = drift_rates_list\n",
    "    for drift_rate in drift_rates_list:\n",
    "        cumulative_drift_rates_list.append(drift_rate)\n",
    "drift_rates_pl_name.to_csv('drift_rates_pl_name.csv')\n",
    "drift_rates_column['drift_rates'] = cumulative_drift_rates_list\n",
    "drift_rates_column.to_csv('drift_rates_column.csv')\n",
    "#Calculating all drift rates and then saving to a csv so I don't have to calculate them anymore"
   ]
  },
  {
   "cell_type": "markdown",
   "id": "4fdcf04c",
   "metadata": {},
   "source": [
    "## Plotting Tools\n",
    "\n",
    "To visualize my drift rates, I will plot a series of varying histograms highlighting various aspects of the data. In this section, I will describe some tools I will use to enhance the plots."
   ]
  },
  {
   "cell_type": "code",
   "execution_count": null,
   "id": "e928a6eb",
   "metadata": {},
   "outputs": [],
   "source": [
    "df_all_parameters = pd.read_csv('all_orbital_parameters.csv')\n",
    "#This is the same as df_all listed earlier, but read in at this step so that the random numbers aren't drawn again"
   ]
  },
  {
   "cell_type": "markdown",
   "id": "b7c4da4f",
   "metadata": {},
   "source": [
    "The main takeaway from this project is to calculate what percentage of planets fall between +/-x nHz drift rates and vice versa (what drift rates contain x% of planets). The following function provides the means for doing so by returning the values that fall between certain percentage bounds (counted from the median value, which is likely 0)."
   ]
  },
  {
   "cell_type": "code",
   "execution_count": 18,
   "id": "fce340bd",
   "metadata": {},
   "outputs": [],
   "source": [
    "def percentage_of_central_values(percent, list_):\n",
    "    #This function will provide bounds on the histogram for an any percent of the values\n",
    "    sorted_list = sorted(map(abs, list_))\n",
    "    number_of_entries = round(len(list_) * percent/100)\n",
    "    central_values = sorted_list[0:number_of_entries]\n",
    "    return central_values"
   ]
  },
  {
   "cell_type": "markdown",
   "id": "977d6eab",
   "metadata": {},
   "source": [
    "### Filling in Other (Non-Orbital) Parameters\n",
    "\n",
    "The following functions calculate and fill in parameters that are fun to analyze and color-code, but not actually necessary to calculate drift rates."
   ]
  },
  {
   "cell_type": "code",
   "execution_count": 20,
   "id": "6cd8194f",
   "metadata": {},
   "outputs": [],
   "source": [
    "def fill_in_radii(df):\n",
    "    #This function will fill in as many radii as possible to plot the rocky vs not-rocky histogram\n",
    "    df_radii = df\n",
    "    for index, row in df_radii.iterrows():\n",
    "        if pd.isna(row['pl_rade']) == False:\n",
    "            pass\n",
    "        elif pd.isna(row['pl_masse']) == False and pd.isna(row['pl_dens']) == False:\n",
    "            #This formula is taken from Weiss and Marcy, 2014\n",
    "            #Density of earth is 5.519 g/cm**3\n",
    "            df_radii.loc[index, 'pl_rade'] = (5.519/row['pl_dens'] * row['pl_masse']) ** (1/3)\n",
    "        else:\n",
    "            df_radii.drop(index, inplace = True)\n",
    "    return df_radii"
   ]
  },
  {
   "cell_type": "code",
   "execution_count": 21,
   "id": "ecaa6c91",
   "metadata": {},
   "outputs": [],
   "source": [
    "filled_radius = fill_in_radii(df_all_parameters)"
   ]
  },
  {
   "cell_type": "code",
   "execution_count": 23,
   "id": "65c911f3",
   "metadata": {},
   "outputs": [],
   "source": [
    "def fill_in_teq(df):\n",
    "    #This function will fill in planet temperatures for a \"habitable zone\" histogram\n",
    "    #Filling in 0.3 for albedo\n",
    "    df_teq = df\n",
    "    for index, row in df_teq.iterrows():\n",
    "        if pd.isna(row['pl_eqt']) == False:\n",
    "            pass\n",
    "        elif pd.isna(row['pl_eqt']) == True and pd.isna(row['st_teff']) == True:\n",
    "            df_teq.drop(index, inplace = True)\n",
    "        else:\n",
    "            df_teq.loc[index, 'pl_eqt'] = row['st_teff'] * (0.7)**0.25 * (row['st_rad'] /(2* row['pl_orbsmax']))**0.5\n",
    "    return df_teq"
   ]
  },
  {
   "cell_type": "code",
   "execution_count": 24,
   "id": "2b635722",
   "metadata": {},
   "outputs": [],
   "source": [
    "filled_teq = fill_in_teq(df_all_parameters)"
   ]
  },
  {
   "cell_type": "markdown",
   "id": "862db1f2",
   "metadata": {},
   "source": [
    "### Sorting Functions\n",
    "\n",
    "The following functions sort the planets by specific criteria, creating dictionaries of planet names by category."
   ]
  },
  {
   "cell_type": "markdown",
   "id": "40bc3f9e",
   "metadata": {},
   "source": [
    "From the discovery method pie chart (also uploaded to Github), we found out that most of our planets are discovered via transit detection. To try to correct for these biases, it may be pertinent to know what kinds of drift rates transiting planets exhibit. The following function separates the planets by discovery method."
   ]
  },
  {
   "cell_type": "code",
   "execution_count": 19,
   "id": "dd3fb35b",
   "metadata": {},
   "outputs": [],
   "source": [
    "def sort_by_disc_method(df):\n",
    "    #I will use this function to create separate the planets by discovery method into a dictionary\n",
    "    methods = df['discoverymethod'].value_counts()[:8].index.tolist()\n",
    "    method_planets = {}\n",
    "    for method in methods:\n",
    "        lst = []\n",
    "        for index, row in df.iterrows():\n",
    "            if row['discoverymethod'] == method:\n",
    "                lst.append(row['pl_name'])\n",
    "        method_planets.update({method: lst})\n",
    "    w = csv.writer(open(\"method_planets.csv\", \"w\"))\n",
    "    for key, val in method_planets.items():\n",
    "        w.writerow([key, val])\n",
    "    return method_planets"
   ]
  },
  {
   "cell_type": "code",
   "execution_count": 22,
   "id": "6e7ba443",
   "metadata": {},
   "outputs": [],
   "source": [
    "def sort_by_radius(df):\n",
    "    radius_categories = {}\n",
    "    big_radii = []\n",
    "    small_radii = []\n",
    "    for index, row in df.iterrows():\n",
    "        if row['pl_rade'] >= 1.6:\n",
    "            big_radii.append(row['pl_name'])\n",
    "        else:\n",
    "            small_radii.append(row['pl_name'])\n",
    "    radius_categories.update({'Possibly Rocky':small_radii})\n",
    "    radius_categories.update({'Probably Not Rocky':big_radii})\n",
    "    w = csv.writer(open(\"rocky_or_not.csv\", \"w\"))\n",
    "    for key, val in radius_categories.items():\n",
    "        w.writerow([key, val])\n",
    "    return radius_categories"
   ]
  },
  {
   "cell_type": "code",
   "execution_count": 25,
   "id": "24b8e668",
   "metadata": {},
   "outputs": [],
   "source": [
    "def sort_by_teq(df):\n",
    "    #This function will sort the planets into a \"habitable zone\", which I'm calling 273-373 K\n",
    "    habitable_or_not = {}\n",
    "    habitable = []\n",
    "    no = []\n",
    "    for index, row in df.iterrows():\n",
    "        if row['pl_eqt'] >= 273 and row['pl_eqt'] <= 373:\n",
    "            habitable.append(row['pl_name'])\n",
    "        else:\n",
    "            no.append(row['pl_name'])\n",
    "    habitable_or_not.update({'Habitable': habitable})\n",
    "    habitable_or_not.update({'Not Habitable': no})\n",
    "    w = csv.writer(open(\"habitable_or_not.csv\", \"w\"))\n",
    "    for key, val in habitable_or_not.items():\n",
    "        w.writerow([key, val])\n",
    "    return habitable_or_not"
   ]
  },
  {
   "cell_type": "markdown",
   "id": "0ed11e72",
   "metadata": {},
   "source": [
    "### Categorizing the Drift Rates\n",
    "\n",
    "The following function categorizes the drift rates according to the dictionaries in the last section. To clarify, the last section __only__categorizes__planet_names__ and doesn't actually touch the drift rates at all. That is done in this step. The nested lists are slightly clunky, but I believe them to be a good option for the stacked histograms."
   ]
  },
  {
   "cell_type": "code",
   "execution_count": 26,
   "id": "1f8a824c",
   "metadata": {},
   "outputs": [],
   "source": [
    "def cat_drift_rates(dct, df):\n",
    "    #This function will take categorized planets and return their drift rates in a nested list for plotting\n",
    "    drift_rates = []\n",
    "    for key in dct.keys():\n",
    "        lst = []\n",
    "        for val in dct[key]:\n",
    "            for col in df:\n",
    "                if col == val:\n",
    "                    for row in df[col]:\n",
    "                        lst.append(row)\n",
    "        drift_rates.append(lst)\n",
    "    return drift_rates"
   ]
  },
  {
   "cell_type": "code",
   "execution_count": 32,
   "id": "9485fe70",
   "metadata": {},
   "outputs": [],
   "source": [
    "sorted_by_disc_method_dr = cat_drift_rates(sort_by_disc_method(df_all_parameters), drift_rates_pl_name)\n",
    "#Nested list for plotting by discovery method"
   ]
  },
  {
   "cell_type": "code",
   "execution_count": 33,
   "id": "faee8270",
   "metadata": {},
   "outputs": [],
   "source": [
    "sorted_by_radius_df = cat_drift_rates(sort_by_radius(filled_radius), drift_rates_pl_name)\n",
    "#Nested list for plotting by radius"
   ]
  },
  {
   "cell_type": "code",
   "execution_count": 44,
   "id": "51416433",
   "metadata": {},
   "outputs": [],
   "source": [
    "sorted_by_teq_df = cat_drift_rates(sort_by_teq(filled_teq), drift_rates_pl_name)\n",
    "#Nested list for plotting by equilibrium temperature"
   ]
  },
  {
   "cell_type": "markdown",
   "id": "84ab37b6",
   "metadata": {},
   "source": [
    "## Plots"
   ]
  },
  {
   "cell_type": "code",
   "execution_count": 29,
   "id": "a594f398",
   "metadata": {},
   "outputs": [],
   "source": [
    "all_drift_rates = pd.read_csv('drift_rates_column.csv')"
   ]
  },
  {
   "cell_type": "markdown",
   "id": "c89bf2e8",
   "metadata": {},
   "source": [
    "These colors are chosen with colorblindness in mind from [here](https://gist.github.com/thriveth/8560036)"
   ]
  },
  {
   "cell_type": "code",
   "execution_count": 45,
   "id": "ead2e28e",
   "metadata": {},
   "outputs": [],
   "source": [
    "CB_color_cycle = ['#377eb8', '#ff7f00', '#4daf4a',\n",
    "                  '#f781bf', '#a65628', '#984ea3',\n",
    "                  '#999999', '#e41a1c', '#dede00']"
   ]
  },
  {
   "cell_type": "code",
   "execution_count": 30,
   "id": "f74871c0",
   "metadata": {},
   "outputs": [
    {
     "data": {
      "image/png": "[encoded data removed]",
      "text/plain": [
       "<Figure size 864x576 with 1 Axes>"
      ]
     },
     "metadata": {
      "needs_background": "light"
     },
     "output_type": "display_data"
    }
   ],
   "source": [
    "#Linearly Scaled Histogram with Central 50%\n",
    "plt.figure(figsize = [12,8])\n",
    "linear_markers = percentage_of_central_values(99, all_drift_rates['drift_rates'])\n",
    "limit_linear = linear_markers[-1]\n",
    "plt.hist(all_drift_rates['drift_rates'], color = 'orchid', bins = 100)\n",
    "plt.axvline(x = limit_linear, color = 'k', linestyle = 'dashed')\n",
    "plt.axvline(x = -limit_linear, color = 'k', linestyle = 'dashed')\n",
    "plt.text(1.2*limit_linear, 8*10**4, '99%')\n",
    "plt.xlabel('Drift Rate (Hz)')\n",
    "plt.title('Abundancy of Drift Rates in the NEA')\n",
    "plt.savefig('linear_histogram.png')\n",
    "plt.show()"
   ]
  },
  {
   "cell_type": "code",
   "execution_count": 31,
   "id": "cfc7b49d",
   "metadata": {},
   "outputs": [
    {
     "name": "stdout",
     "output_type": "stream",
     "text": [
      "4.362617140847653e-08\n"
     ]
    },
    {
     "data": {
      "image/png": "[encoded data removed]",
      "text/plain": [
       "<Figure size 864x576 with 1 Axes>"
      ]
     },
     "metadata": {
      "needs_background": "light"
     },
     "output_type": "display_data"
    }
   ],
   "source": [
    "#Logarithmically Scaled Histogram with Central 99%\n",
    "plt.figure(figsize = [12,8])\n",
    "log_markers = percentage_of_central_values(99, all_drift_rates['drift_rates'])\n",
    "limit_log = log_markers[-1]\n",
    "print(limit_log)\n",
    "plt.hist(all_drift_rates['drift_rates'], color = 'orchid', bins = 1000)\n",
    "plt.axvline(x = limit_log, color = 'k', linestyle = 'dashed')\n",
    "plt.axvline(x = -limit_log, color = 'k', linestyle = 'dashed')\n",
    "plt.text(1.5*limit_log, 10**4, '99%')\n",
    "plt.xlabel('Drift Rate (Hz)')\n",
    "plt.yscale('log')\n",
    "plt.savefig('log_histogram.png')\n",
    "plt.title('Abundancy of Drift Rates in the NEA')\n",
    "plt.show()"
   ]
  },
  {
   "cell_type": "code",
   "execution_count": 42,
   "id": "fe872842",
   "metadata": {},
   "outputs": [
    {
     "data": {
      "image/png": "[encoded data removed]",
      "text/plain": [
       "<Figure size 864x576 with 1 Axes>"
      ]
     },
     "metadata": {
      "needs_background": "light"
     },
     "output_type": "display_data"
    }
   ],
   "source": [
    "#Linearly Scaled Histogram by Discovery Method\n",
    "plt.figure(figsize = [12,8])\n",
    "labels = df['discoverymethod'].value_counts()[:8].index.tolist()\n",
    "plt.hist(sorted_by_disc_method_dr, bins = 100, color = ['maroon', 'red','orange', 'y', 'lime'],  stacked = True)\n",
    "plt.xlabel('Drift Rate (Hz)')\n",
    "plt.yscale('linear')\n",
    "plt.legend(labels)\n",
    "plt.title('Abundancy of Drift Rates in the NEA')\n",
    "plt.savefig('linear_disc_method_histogram.png')\n",
    "plt.show()"
   ]
  },
  {
   "cell_type": "code",
   "execution_count": 43,
   "id": "a9dbd25c",
   "metadata": {},
   "outputs": [
    {
     "data": {
      "image/png": "[encoded data removed]",
      "text/plain": [
       "<Figure size 864x576 with 1 Axes>"
      ]
     },
     "metadata": {
      "needs_background": "light"
     },
     "output_type": "display_data"
    }
   ],
   "source": [
    "#Logarithmically Scaled Histogram by Discovery Method (Overlapped)\n",
    "plt.figure(figsize = [12,8])\n",
    "labels = df['discoverymethod'].value_counts()[:8].index.tolist()\n",
    "for lst in sorted_by_disc_method_dr:\n",
    "    plt.hist(lst, bins = 1000)\n",
    "plt.xlabel('Drift Rate (Hz)')\n",
    "plt.yscale('log')\n",
    "plt.legend(labels)\n",
    "plt.title('Abundancy of Drift Rates in the NEA')\n",
    "plt.savefig('log_overlap_disc_method_histogram.png')\n",
    "plt.show()"
   ]
  },
  {
   "cell_type": "code",
   "execution_count": 37,
   "id": "2e077495",
   "metadata": {},
   "outputs": [
    {
     "data": {
      "image/png": "[encoded data removed]",
      "text/plain": [
       "<Figure size 864x576 with 1 Axes>"
      ]
     },
     "metadata": {
      "needs_background": "light"
     },
     "output_type": "display_data"
    }
   ],
   "source": [
    "#Logarithmically scaled histogram by radii (are they rocky?)\n",
    "plt.figure(figsize = [12,8])\n",
    "labels = ['Possibly Rocky', 'Probably Not Rocky']\n",
    "plt.hist(sorted_by_radius_df, bins = 1000, color = ['maroon','cyan'],  stacked = True)\n",
    "plt.xlabel('Drift Rate (Hz)')\n",
    "plt.yscale('log')\n",
    "plt.legend(labels)\n",
    "plt.title('Abundancy of Drift Rates in the NEA')\n",
    "plt.savefig('log_radius_histogram.png')\n",
    "plt.show()"
   ]
  },
  {
   "cell_type": "code",
   "execution_count": 41,
   "id": "00c1cf63",
   "metadata": {},
   "outputs": [
    {
     "data": {
      "image/png": "[encoded data removed]",
      "text/plain": [
       "<Figure size 864x576 with 1 Axes>"
      ]
     },
     "metadata": {
      "needs_background": "light"
     },
     "output_type": "display_data"
    }
   ],
   "source": [
    "#Logarithmically scaled histogram by temperature (are they habitable?)\n",
    "plt.figure(figsize = [12,8])\n",
    "labels = ['Habitable (273K-373K)', 'Probably Not Habitable']\n",
    "plt.hist(sorted_by_teq_df, bins = 1000, color = [CB_color_cycle[0],CB_color_cycle[1]],  stacked = True)\n",
    "plt.xlabel('Drift Rate (Hz)')\n",
    "plt.yscale('log')\n",
    "plt.legend(labels)\n",
    "plt.title('Abundancy of Drift Rates in the NEA')\n",
    "plt.savefig('log_teq_histogram.png')\n",
    "plt.show()"
   ]
  }
 ],
 "metadata": {
  "kernelspec": {
   "display_name": "Python 3",
   "language": "python",
   "name": "python3"
  },
  "language_info": {
   "codemirror_mode": {
    "name": "ipython",
    "version": 3
   },
   "file_extension": ".py",
   "mimetype": "text/x-python",
   "name": "python",
   "nbconvert_exporter": "python",
   "pygments_lexer": "ipython3",
   "version": "3.8.8"
  }
 },
 "nbformat": 4,
 "nbformat_minor": 5
}
