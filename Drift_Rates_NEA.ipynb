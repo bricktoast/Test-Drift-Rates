{
 "cells": [
  {
   "cell_type": "markdown",
   "id": "ab3aa9b0",
   "metadata": {},
   "source": [
    "The goal for this notebook is a streamlined, reproducable method of calculating the drift rates of all eligible planets in the NASA Exoplanet Database. \n",
    "\n",
    "There are 7 parameters necessary to calculate a planet's orbital drift rate: orbital period, semimajor axis, stellar mass, eccentricity, argument of periastron, inclination, and longitude of ascending node. As not all exoplanets have a measured value for each of these parameters, this notebook will provide methods to mitigate these insecurities."
   ]
  },
  {
   "cell_type": "code",
   "execution_count": null,
   "id": "2b16eb24",
   "metadata": {},
   "outputs": [],
   "source": [
    "#general utility packages\n",
    "import numpy as np\n",
    "import matplotlib.pyplot as plt\n",
    "import random\n",
    "import csv\n",
    "import pandas as pd\n",
    "from scipy.stats import beta\n",
    "\n",
    "#nice modules from astropy\n",
    "import astropy.units as u\n",
    "import astropy.constants as const\n",
    "\n",
    "#remind matplotlib how to do 3D plotting\n",
    "from mpl_toolkits.mplot3d import Axes3D\n",
    "\n",
    "#cool package that makes good ellipses\n",
    "!pip install PyAstronomy\n",
    "import PyAstronomy\n",
    "from PyAstronomy import pyasl\n",
    "\n",
    "#frequently used constants\n",
    "pi = np.pi\n",
    "G_units = const.G\n",
    "G = 6.67 * 10 **(-11)\n",
    "c_units = const.c\n",
    "c = 3 * 10**8"
   ]
  },
  {
   "cell_type": "markdown",
   "id": "eeeae295",
   "metadata": {},
   "source": [
    "## Data from the NASA Exoplanet Archive\n",
    "\n",
    "The data I will be using for this project comes from the NASA Exoplanet Archive (NEA) which produces a nice spreadsheet. The column names I will be frequently using are:\n",
    "\n",
    "Stellar Mass = st_mass\n",
    "\n",
    "Planet Name = pl_name\n",
    "\n",
    "Semimajor Axis = pl_orbsmax\n",
    "\n",
    "Period in Days = pl_orbper\n",
    "\n",
    "Eccentricity = pl_orbeccen\n",
    "\n",
    "Inclination = pl_orbincl\n",
    "\n",
    "Argument of Periapse = pl_orblper\n",
    "\n",
    "Discovery Method = discoverymethod\n",
    "\n",
    "Discovery Facility = disc_facility"
   ]
  },
  {
   "cell_type": "code",
   "execution_count": null,
   "id": "9a69caa9",
   "metadata": {},
   "outputs": [],
   "source": [
    "#Downloade csv from NEA, currently at 4424 confirmed planets (7/10/21)\n",
    "df_all = pd.read_csv('/Users/megan/Downloads/orbital_parameters_all.csv')"
   ]
  },
  {
   "cell_type": "markdown",
   "id": "24abdfc2",
   "metadata": {},
   "source": [
    "## Applying Kepler's Third Law\n",
    "\n",
    "Kepler's Third Law relates 3 of our necessary parameters to each other: stellar mass, semimajor axis, and orbital period. Thus, calculations can be run on any planet with 2/3 of these parameters measured to get the third one. In this step, that is what I will do. \n",
    "\n",
    "Planets that only have 1 out of these 3 cannot be used in this project. All three of these parameters are not presumed to be nicely distributed across some bound numbers (like other parameters are,) so I have no current methods of simulating these values. As of 7/10/21, this is only 30 planets out of 4424 planets, so I am counting this as a negligible loss to our sample. This section of the code also saves the planets that are not eligible to a text file."
   ]
  },
  {
   "cell_type": "code",
   "execution_count": null,
   "id": "e8def374",
   "metadata": {},
   "outputs": [],
   "source": [
    "def keplers_third_law(df):\n",
    "    trashed_planets = []\n",
    "    df_solved = df\n",
    "    for index, row in df_solved.iterrows():\n",
    "        if pd.isna(row['pl_orbsmax']) == False and pd.isna(row['pl_orbper']) == False and pd.isna(row['st_mass']) == False:\n",
    "        #All 3 values have numbers, don't need to be solved or dropped\n",
    "            pass\n",
    "        elif pd.isna(row['pl_orbsmax']) == True and pd.isna(row['pl_orbper']) == True:\n",
    "            #2/3 missing, drop row\n",
    "            df_solved.drop(index = index, inplace = True)\n",
    "            trashed_planets.append(row['pl_name'])\n",
    "        elif pd.isna(row['pl_orbsmax']) == True and pd.isna(row['st_mass']) == True:\n",
    "            #2/3 missing, drop row\n",
    "            df_solved.drop(index = index, inplace = True)\n",
    "            trashed_planets.append(row['pl_name'])\n",
    "        elif pd.isna(row['pl_orbper']) == True and pd.isna(row['st_mass']) == True:\n",
    "            #2/3 missing, drop row  \n",
    "            df_solved.drop(index = index, inplace = True)\n",
    "            trashed_planets.append(row['pl_name'])\n",
    "        elif pd.isna(row['pl_orbsmax']) == True and pd.isna(row['pl_orbper']) == True and pd.isna(row['st_mass']) == True:\n",
    "            #3/3 missing, drop row\n",
    "            df_solved.drop(index = index, inplace = True)\n",
    "            trashed_planets.append(row['pl_name'])\n",
    "        elif pd.isna(row['pl_orbsmax']) == True and pd.isna(row['pl_orbper']) == False and pd.isna(row['st_mass']) == False:\n",
    "            #only semimajor axis is missing\n",
    "            df.loc[index, 'pl_orbsmax'] = (6.67*10**(-11) * row['st_mass'] * row['pl_orbper']**2 /(4*pi**2)) **(1/3)\n",
    "            #Kepler's Third Law solved for semimajor axis\n",
    "        elif pd.isna(row['pl_orbper']) == True and pd.isna(row['pl_orbsmax']) == False and pd.isna(row['st_mass']) == False:\n",
    "            df.loc[index, 'pl_orbper'] = (4 * pi**2 * row['pl_orbsmax']**3/(6.67*10**(-11) * row['st_mass']))**(1/2)\n",
    "            #Kepler's Third Law solved for period\n",
    "        else:\n",
    "            df.loc[index, 'st_mass'] = 4*pi**2*row['pl_orbsmax']**3/(6.67*10**(-11)*row['pl_orbper']**2)\n",
    "            #Kepler's Third Law solved for stellar mass\n",
    "    with open(\"trashed_planets.txt\", \"w\") as file:\n",
    "        file.write(str(trashed_planets))\n",
    "        #saving the trashed planets to an external file\n",
    "    return df_solved"
   ]
  },
  {
   "cell_type": "code",
   "execution_count": null,
   "id": "fd2be5a9",
   "metadata": {},
   "outputs": [],
   "source": [
    "df_kepler_solved = keplers_third_law(df_all)"
   ]
  },
  {
   "cell_type": "markdown",
   "id": "da0e5ea8",
   "metadata": {},
   "source": [
    "## Randomly Assigned Values: Inclination, Argument of Periastron, and Longitude of Ascending Node\n",
    "\n",
    "An orbit's inclination, argument of periastron, and longitude of ascending node essentially have no rhyme or reason to be distributed a certain way, so I will simulate missing values for these angles to be random across all possible values. That is, from 0 to 360 degrees for argument of periastron and longitude of ascending node, and from -90 to 90 degrees for inclination."
   ]
  },
  {
   "cell_type": "code",
   "execution_count": null,
   "id": "530536d8",
   "metadata": {},
   "outputs": [],
   "source": [
    "def assign_inclination(df):\n",
    "    df_inc = df\n",
    "    for index, row in df_inc.iterrows():\n",
    "        random_inc = random.uniform(-90, 90)\n",
    "        if pd.isna(row['pl_orbincl']) == True:\n",
    "        #If the inclination is null    \n",
    "            df.loc[index, 'pl_orbincl'] = random_inc\n",
    "    return df_inc"
   ]
  },
  {
   "cell_type": "code",
   "execution_count": null,
   "id": "b580356f",
   "metadata": {},
   "outputs": [],
   "source": [
    "df_kepler_inc = assign_inclination(df_kepler_solved)"
   ]
  },
  {
   "cell_type": "code",
   "execution_count": null,
   "id": "107f6a36",
   "metadata": {},
   "outputs": [],
   "source": [
    "def assign_arg_of_peri(df):\n",
    "    df_aop = df\n",
    "    for index, row in df_aop.iterrows():\n",
    "        random_aop = random.uniform(0, 360)\n",
    "        if pd.isna(row['pl_orblper']) == True:\n",
    "        #If the argument of periastron is null    \n",
    "            df.loc[index, 'pl_orblper'] = random_aop\n",
    "    return df_aop"
   ]
  },
  {
   "cell_type": "code",
   "execution_count": null,
   "id": "10012486",
   "metadata": {},
   "outputs": [],
   "source": [
    "df_kepler_inc_aop = assign_arg_of_peri(df_kepler_inc)"
   ]
  },
  {
   "cell_type": "code",
   "execution_count": null,
   "id": "15db6839",
   "metadata": {},
   "outputs": [],
   "source": [
    "#There are basically no measured longitudes of ascending node (only 4/4424, so I'll just randomly assign all of them)\n",
    "def assign_long_of_asc_node(df):\n",
    "    df_loan = df\n",
    "    loans = []\n",
    "    for index in df_loan.iterrows():\n",
    "        random_loan = random.uniform(0, 360)\n",
    "        loans.append(random_loan)\n",
    "    df_loan['long_of_asc_node'] = loans\n",
    "    return df_loan"
   ]
  },
  {
   "cell_type": "code",
   "execution_count": null,
   "id": "57f4fcc4",
   "metadata": {},
   "outputs": [],
   "source": [
    "df_kepler_inc_aop_loan = assign_long_of_asc_node(df_kepler_inc_aop)"
   ]
  },
  {
   "cell_type": "markdown",
   "id": "714afa41",
   "metadata": {},
   "source": [
    "## Eccentricity : Beta Distribution\n",
    "\n",
    "For unmeasured eccentricities, I will be pulling numbers from a beta distribution as described in Kipping 2013."
   ]
  },
  {
   "cell_type": "code",
   "execution_count": null,
   "id": "6d800dd4",
   "metadata": {},
   "outputs": [],
   "source": [
    "def assign_ecc(df):\n",
    "    df_ecc = df\n",
    "    for index, row in df_ecc.iterrows():\n",
    "        random_ecc = beta.rvs(0.867, 3.03)\n",
    "        if pd.isna(row['pl_orbeccen']) == True:\n",
    "        #If the eccentricity is null    \n",
    "            df.loc[index, 'pl_orbeccen'] = random_ecc\n",
    "    return df_ecc"
   ]
  },
  {
   "cell_type": "code",
   "execution_count": null,
   "id": "af1b33a5",
   "metadata": {},
   "outputs": [],
   "source": [
    "df_all = assign_ecc(df_kepler_inc_aop_loan)\n",
    "df_all.to_csv('all_orbital_parameters.csv')\n",
    "#Our dataframe is complete, so I am saving it to a csv to avoid having multiple versions running around \n",
    "#as many of the values would change each time the code is run"
   ]
  },
  {
   "cell_type": "markdown",
   "id": "efd6c3c1",
   "metadata": {},
   "source": [
    "## Calculating Drift Rates\n",
    "Parameters should be in units of au, years, and degrees: \n",
    "\n",
    "e is the eccentricity of the orbit\n",
    "\n",
    "\n",
    "omega is longitude of ascending node in degrees\n",
    "\n",
    "\n",
    "i is inclination in degrees\n",
    "\n",
    "\n",
    "w is argument is periapse in degrees\n",
    "\n",
    "\n",
    "num_timestep is the number of data points to build the ellipse, I've been using 200"
   ]
  },
  {
   "cell_type": "code",
   "execution_count": 184,
   "id": "1085a31f",
   "metadata": {},
   "outputs": [],
   "source": [
    "def drift_rates(semimajor, period, e, omega, i, w, stellar_mass, num_timestep):\n",
    "    ke = pyasl.KeplerEllipse(semimajor, period, e, Omega = omega,i = i,w = w)\n",
    "    # Build the ellipse\n",
    "    t = np.linspace(0, period, num_timestep)\n",
    "    # Make a time axis\n",
    "    pos = ke.xyzPos(t)\n",
    "    radius = ke.radius(t)\n",
    "    total_acc = G*stellar_mass*u.Msun/(radius* u.au)**2\n",
    "    z_acceleration_array = []\n",
    "    vector_to_earth = [0,0,1]\n",
    "    for i in range(0, num_timestep):\n",
    "        position_vector = ke.xyzPos(t)[i,:]\n",
    "        radius = ke.radius(t)\n",
    "        # vector from the origin (host star) to the point in the orbit\n",
    "        z_magnitude = np.dot(vector_to_earth, position_vector) / radius[i]\n",
    "        # normalized magnitude of the vector in the observer's direction - between -1 and 1\n",
    "        z_acceleration_array.append((z_magnitude * total_acc[i].si).value/c)\n",
    "    return z_acceleration_array"
   ]
  },
  {
   "cell_type": "code",
   "execution_count": 276,
   "id": "cb46060d",
   "metadata": {},
   "outputs": [],
   "source": [
    "drift_rates_df = pd.DataFrame()\n",
    "cumulative_drift_rates = []\n",
    "for index, row in df.iterrows():\n",
    "    drift_rates_list = drift_rates(row['pl_orbsmax'], row['pl_orbper']/365.25, row['pl_orbeccen'], row['long_of_asc_node'], row['pl_orbincl'], row['pl_orblper'], row['st_mass'], 200)\n",
    "    drift_rates_df[row['pl_name']] = drift_rates_list\n",
    "    for drift_rate in drift_rates_list:\n",
    "        #This list is for plotting histograms in one color\n",
    "        cumulative_drift_rates.append(drift_rate)\n",
    "drift_rates_df.to_csv('drift_rates.csv')"
   ]
  },
  {
   "cell_type": "code",
   "execution_count": 262,
   "id": "6ec61722",
   "metadata": {},
   "outputs": [],
   "source": [
    "drift_rates_df = pd.read_csv('drift_rates.csv')\n",
    "#The data frame can be sorted for color coding histograms later"
   ]
  },
  {
   "cell_type": "markdown",
   "id": "2fd34f41",
   "metadata": {},
   "source": [
    "## Plotting Tools\n",
    "\n",
    "To visualize my drift rates, I will plot a series of varying histograms highlighting various aspects of the data. In this section, I will describe some tools I will use to enhance the plots."
   ]
  },
  {
   "cell_type": "code",
   "execution_count": null,
   "id": "3499c9b6",
   "metadata": {},
   "outputs": [],
   "source": [
    "def percentage_of_central_values(percent, list_):\n",
    "    #This function will provide bounds on the histogram for an any percent of the values\n",
    "    sorted_list = sorted(map(abs, list_))\n",
    "    number_of_entries = round(len(list_) * percent/100)\n",
    "    central_values = sorted_list[0:number_of_entries]\n",
    "    return central_values"
   ]
  },
  {
   "cell_type": "code",
   "execution_count": 197,
   "id": "2a6e8dca",
   "metadata": {},
   "outputs": [],
   "source": [
    "def sort_by_disc_method(df):\n",
    "    #I will use this function to create separate the planets by discovery method into a dictionary\n",
    "    methods = df['discoverymethod'].value_counts()[:8].index.tolist()\n",
    "    method_planets = {}\n",
    "    for method in methods:\n",
    "        lst = []\n",
    "        for index, row in df.iterrows():\n",
    "            if row['discoverymethod'] == method:\n",
    "                lst.append(row['pl_name'])\n",
    "        method_planets.update({method: lst})\n",
    "    w = csv.writer(open(\"method_planets.csv\", \"w\"))\n",
    "    for key, val in method_planets.items():\n",
    "        w.writerow([key, val])\n",
    "    return method_planets"
   ]
  },
  {
   "cell_type": "code",
   "execution_count": 198,
   "id": "1a473f48",
   "metadata": {},
   "outputs": [],
   "source": [
    "sorted_by_disc_method = sort_by_disc_method(df)"
   ]
  },
  {
   "cell_type": "code",
   "execution_count": 247,
   "id": "d464c939",
   "metadata": {},
   "outputs": [],
   "source": [
    "def cat_drift_rates(dct, df):\n",
    "    #This function will take categorized planets and return their drift rates in a nested list for plotting\n",
    "    drift_rates = []\n",
    "    for key in dct.keys():\n",
    "        lst = []\n",
    "        for val in dct[key]:\n",
    "            for col in df:\n",
    "                if col == val:\n",
    "                    for row in df[col]:\n",
    "                        lst.append(row)\n",
    "        drift_rates.append(lst)\n",
    "    return drift_rates"
   ]
  },
  {
   "cell_type": "code",
   "execution_count": 248,
   "id": "8e9a15fb",
   "metadata": {},
   "outputs": [],
   "source": [
    "sorted_by_disc_method_dr = cat_drift_rates(sort_by_disc_method(df), drift_rates_df)"
   ]
  },
  {
   "cell_type": "markdown",
   "id": "e6f7fb65",
   "metadata": {},
   "source": [
    "## Plots"
   ]
  },
  {
   "cell_type": "code",
   "execution_count": 275,
   "id": "74f6ae8d",
   "metadata": {},
   "outputs": [
    {
     "ename": "ValueError",
     "evalue": "The 'color' keyword argument must have one color per dataset, but 878800 datasets and 1 colors were provided",
     "output_type": "error",
     "traceback": [
      "\u001b[0;31m---------------------------------------------------------------------------\u001b[0m",
      "\u001b[0;31mValueError\u001b[0m                                Traceback (most recent call last)",
      "\u001b[0;32m<ipython-input-275-478ae305567c>\u001b[0m in \u001b[0;36m<module>\u001b[0;34m\u001b[0m\n\u001b[1;32m      3\u001b[0m \u001b[0;31m#linear_markers = percentage_of_central_values(99, cumulative_drift_rates)\u001b[0m\u001b[0;34m\u001b[0m\u001b[0;34m\u001b[0m\u001b[0;34m\u001b[0m\u001b[0m\n\u001b[1;32m      4\u001b[0m \u001b[0;31m#limit_linear = linear_markers[-1]\u001b[0m\u001b[0;34m\u001b[0m\u001b[0;34m\u001b[0m\u001b[0;34m\u001b[0m\u001b[0m\n\u001b[0;32m----> 5\u001b[0;31m \u001b[0mplt\u001b[0m\u001b[0;34m.\u001b[0m\u001b[0mhist\u001b[0m\u001b[0;34m(\u001b[0m\u001b[0mcumulative_drift_rates\u001b[0m\u001b[0;34m,\u001b[0m \u001b[0mcolor\u001b[0m \u001b[0;34m=\u001b[0m \u001b[0;34m'orchid'\u001b[0m\u001b[0;34m,\u001b[0m \u001b[0mbins\u001b[0m \u001b[0;34m=\u001b[0m \u001b[0;36m100\u001b[0m\u001b[0;34m)\u001b[0m\u001b[0;34m\u001b[0m\u001b[0;34m\u001b[0m\u001b[0m\n\u001b[0m\u001b[1;32m      6\u001b[0m \u001b[0;31m#plt.axvline(x = limit_linear, color = 'k', linestyle = 'dashed')\u001b[0m\u001b[0;34m\u001b[0m\u001b[0;34m\u001b[0m\u001b[0;34m\u001b[0m\u001b[0m\n\u001b[1;32m      7\u001b[0m \u001b[0;31m#plt.axvline(x = -limit_linear, color = 'k', linestyle = 'dashed')\u001b[0m\u001b[0;34m\u001b[0m\u001b[0;34m\u001b[0m\u001b[0;34m\u001b[0m\u001b[0m\n",
      "\u001b[0;32m~/opt/anaconda3/lib/python3.8/site-packages/matplotlib/pyplot.py\u001b[0m in \u001b[0;36mhist\u001b[0;34m(x, bins, range, density, weights, cumulative, bottom, histtype, align, orientation, rwidth, log, color, label, stacked, data, **kwargs)\u001b[0m\n\u001b[1;32m   2683\u001b[0m         \u001b[0morientation\u001b[0m\u001b[0;34m=\u001b[0m\u001b[0;34m'vertical'\u001b[0m\u001b[0;34m,\u001b[0m \u001b[0mrwidth\u001b[0m\u001b[0;34m=\u001b[0m\u001b[0;32mNone\u001b[0m\u001b[0;34m,\u001b[0m \u001b[0mlog\u001b[0m\u001b[0;34m=\u001b[0m\u001b[0;32mFalse\u001b[0m\u001b[0;34m,\u001b[0m \u001b[0mcolor\u001b[0m\u001b[0;34m=\u001b[0m\u001b[0;32mNone\u001b[0m\u001b[0;34m,\u001b[0m\u001b[0;34m\u001b[0m\u001b[0;34m\u001b[0m\u001b[0m\n\u001b[1;32m   2684\u001b[0m         label=None, stacked=False, *, data=None, **kwargs):\n\u001b[0;32m-> 2685\u001b[0;31m     return gca().hist(\n\u001b[0m\u001b[1;32m   2686\u001b[0m         \u001b[0mx\u001b[0m\u001b[0;34m,\u001b[0m \u001b[0mbins\u001b[0m\u001b[0;34m=\u001b[0m\u001b[0mbins\u001b[0m\u001b[0;34m,\u001b[0m \u001b[0mrange\u001b[0m\u001b[0;34m=\u001b[0m\u001b[0mrange\u001b[0m\u001b[0;34m,\u001b[0m \u001b[0mdensity\u001b[0m\u001b[0;34m=\u001b[0m\u001b[0mdensity\u001b[0m\u001b[0;34m,\u001b[0m \u001b[0mweights\u001b[0m\u001b[0;34m=\u001b[0m\u001b[0mweights\u001b[0m\u001b[0;34m,\u001b[0m\u001b[0;34m\u001b[0m\u001b[0;34m\u001b[0m\u001b[0m\n\u001b[1;32m   2687\u001b[0m         \u001b[0mcumulative\u001b[0m\u001b[0;34m=\u001b[0m\u001b[0mcumulative\u001b[0m\u001b[0;34m,\u001b[0m \u001b[0mbottom\u001b[0m\u001b[0;34m=\u001b[0m\u001b[0mbottom\u001b[0m\u001b[0;34m,\u001b[0m \u001b[0mhisttype\u001b[0m\u001b[0;34m=\u001b[0m\u001b[0mhisttype\u001b[0m\u001b[0;34m,\u001b[0m\u001b[0;34m\u001b[0m\u001b[0;34m\u001b[0m\u001b[0m\n",
      "\u001b[0;32m~/opt/anaconda3/lib/python3.8/site-packages/matplotlib/__init__.py\u001b[0m in \u001b[0;36minner\u001b[0;34m(ax, data, *args, **kwargs)\u001b[0m\n\u001b[1;32m   1445\u001b[0m     \u001b[0;32mdef\u001b[0m \u001b[0minner\u001b[0m\u001b[0;34m(\u001b[0m\u001b[0max\u001b[0m\u001b[0;34m,\u001b[0m \u001b[0;34m*\u001b[0m\u001b[0margs\u001b[0m\u001b[0;34m,\u001b[0m \u001b[0mdata\u001b[0m\u001b[0;34m=\u001b[0m\u001b[0;32mNone\u001b[0m\u001b[0;34m,\u001b[0m \u001b[0;34m**\u001b[0m\u001b[0mkwargs\u001b[0m\u001b[0;34m)\u001b[0m\u001b[0;34m:\u001b[0m\u001b[0;34m\u001b[0m\u001b[0;34m\u001b[0m\u001b[0m\n\u001b[1;32m   1446\u001b[0m         \u001b[0;32mif\u001b[0m \u001b[0mdata\u001b[0m \u001b[0;32mis\u001b[0m \u001b[0;32mNone\u001b[0m\u001b[0;34m:\u001b[0m\u001b[0;34m\u001b[0m\u001b[0;34m\u001b[0m\u001b[0m\n\u001b[0;32m-> 1447\u001b[0;31m             \u001b[0;32mreturn\u001b[0m \u001b[0mfunc\u001b[0m\u001b[0;34m(\u001b[0m\u001b[0max\u001b[0m\u001b[0;34m,\u001b[0m \u001b[0;34m*\u001b[0m\u001b[0mmap\u001b[0m\u001b[0;34m(\u001b[0m\u001b[0msanitize_sequence\u001b[0m\u001b[0;34m,\u001b[0m \u001b[0margs\u001b[0m\u001b[0;34m)\u001b[0m\u001b[0;34m,\u001b[0m \u001b[0;34m**\u001b[0m\u001b[0mkwargs\u001b[0m\u001b[0;34m)\u001b[0m\u001b[0;34m\u001b[0m\u001b[0;34m\u001b[0m\u001b[0m\n\u001b[0m\u001b[1;32m   1448\u001b[0m \u001b[0;34m\u001b[0m\u001b[0m\n\u001b[1;32m   1449\u001b[0m         \u001b[0mbound\u001b[0m \u001b[0;34m=\u001b[0m \u001b[0mnew_sig\u001b[0m\u001b[0;34m.\u001b[0m\u001b[0mbind\u001b[0m\u001b[0;34m(\u001b[0m\u001b[0max\u001b[0m\u001b[0;34m,\u001b[0m \u001b[0;34m*\u001b[0m\u001b[0margs\u001b[0m\u001b[0;34m,\u001b[0m \u001b[0;34m**\u001b[0m\u001b[0mkwargs\u001b[0m\u001b[0;34m)\u001b[0m\u001b[0;34m\u001b[0m\u001b[0;34m\u001b[0m\u001b[0m\n",
      "\u001b[0;32m~/opt/anaconda3/lib/python3.8/site-packages/matplotlib/axes/_axes.py\u001b[0m in \u001b[0;36mhist\u001b[0;34m(self, x, bins, range, density, weights, cumulative, bottom, histtype, align, orientation, rwidth, log, color, label, stacked, **kwargs)\u001b[0m\n\u001b[1;32m   6605\u001b[0m             \u001b[0mcolor\u001b[0m \u001b[0;34m=\u001b[0m \u001b[0mmcolors\u001b[0m\u001b[0;34m.\u001b[0m\u001b[0mto_rgba_array\u001b[0m\u001b[0;34m(\u001b[0m\u001b[0mcolor\u001b[0m\u001b[0;34m)\u001b[0m\u001b[0;34m\u001b[0m\u001b[0;34m\u001b[0m\u001b[0m\n\u001b[1;32m   6606\u001b[0m             \u001b[0;32mif\u001b[0m \u001b[0mlen\u001b[0m\u001b[0;34m(\u001b[0m\u001b[0mcolor\u001b[0m\u001b[0;34m)\u001b[0m \u001b[0;34m!=\u001b[0m \u001b[0mnx\u001b[0m\u001b[0;34m:\u001b[0m\u001b[0;34m\u001b[0m\u001b[0;34m\u001b[0m\u001b[0m\n\u001b[0;32m-> 6607\u001b[0;31m                 raise ValueError(f\"The 'color' keyword argument must have one \"\n\u001b[0m\u001b[1;32m   6608\u001b[0m                                  \u001b[0;34mf\"color per dataset, but {nx} datasets and \"\u001b[0m\u001b[0;34m\u001b[0m\u001b[0;34m\u001b[0m\u001b[0m\n\u001b[1;32m   6609\u001b[0m                                  f\"{len(color)} colors were provided\")\n",
      "\u001b[0;31mValueError\u001b[0m: The 'color' keyword argument must have one color per dataset, but 878800 datasets and 1 colors were provided"
     ]
    },
    {
     "data": {
      "image/png": "[encoded data removed]",
      "text/plain": [
       "<Figure size 864x576 with 1 Axes>"
      ]
     },
     "metadata": {
      "needs_background": "light"
     },
     "output_type": "display_data"
    }
   ],
   "source": [
    "#Linearly Scaled Histogram with Central 50%\n",
    "plt.figure(figsize = [12,8])\n",
    "#linear_markers = percentage_of_central_values(99, cumulative_drift_rates)\n",
    "#limit_linear = linear_markers[-1]\n",
    "plt.hist(cumulative_drift_rates, color = 'orchid', bins = 100)\n",
    "#plt.axvline(x = limit_linear, color = 'k', linestyle = 'dashed')\n",
    "#plt.axvline(x = -limit_linear, color = 'k', linestyle = 'dashed')\n",
    "plt.text(1.2*limit_linear, 8*10**4, '99%')\n",
    "plt.xlabel('Drift Rate (Hz)')\n",
    "plt.xlim(-1, 0.4)\n",
    "plt.title('Abundancy of Drift Rates in the NEA')\n",
    "plt.savefig('linear_histogram.png')\n",
    "plt.show()"
   ]
  },
  {
   "cell_type": "code",
   "execution_count": 274,
   "id": "e7a0c64e",
   "metadata": {},
   "outputs": [
    {
     "ename": "TypeError",
     "evalue": "bad operand type for abs(): 'list'",
     "output_type": "error",
     "traceback": [
      "\u001b[0;31m---------------------------------------------------------------------------\u001b[0m",
      "\u001b[0;31mTypeError\u001b[0m                                 Traceback (most recent call last)",
      "\u001b[0;32m<ipython-input-274-ec302041feb1>\u001b[0m in \u001b[0;36m<module>\u001b[0;34m\u001b[0m\n\u001b[1;32m      1\u001b[0m \u001b[0;31m#Logarithmically Scaled Histogram with Central 99%\u001b[0m\u001b[0;34m\u001b[0m\u001b[0;34m\u001b[0m\u001b[0;34m\u001b[0m\u001b[0m\n\u001b[1;32m      2\u001b[0m \u001b[0mplt\u001b[0m\u001b[0;34m.\u001b[0m\u001b[0mfigure\u001b[0m\u001b[0;34m(\u001b[0m\u001b[0mfigsize\u001b[0m \u001b[0;34m=\u001b[0m \u001b[0;34m[\u001b[0m\u001b[0;36m12\u001b[0m\u001b[0;34m,\u001b[0m\u001b[0;36m8\u001b[0m\u001b[0;34m]\u001b[0m\u001b[0;34m)\u001b[0m\u001b[0;34m\u001b[0m\u001b[0;34m\u001b[0m\u001b[0m\n\u001b[0;32m----> 3\u001b[0;31m \u001b[0mlog_markers\u001b[0m \u001b[0;34m=\u001b[0m \u001b[0mpercentage_of_central_values\u001b[0m\u001b[0;34m(\u001b[0m\u001b[0;36m99\u001b[0m\u001b[0;34m,\u001b[0m \u001b[0mcumulative_drift_rates\u001b[0m\u001b[0;34m)\u001b[0m\u001b[0;34m\u001b[0m\u001b[0;34m\u001b[0m\u001b[0m\n\u001b[0m\u001b[1;32m      4\u001b[0m \u001b[0mlimit_log\u001b[0m \u001b[0;34m=\u001b[0m \u001b[0mlog_markers\u001b[0m\u001b[0;34m[\u001b[0m\u001b[0;34m-\u001b[0m\u001b[0;36m1\u001b[0m\u001b[0;34m]\u001b[0m\u001b[0;34m\u001b[0m\u001b[0;34m\u001b[0m\u001b[0m\n\u001b[1;32m      5\u001b[0m \u001b[0mplt\u001b[0m\u001b[0;34m.\u001b[0m\u001b[0mhist\u001b[0m\u001b[0;34m(\u001b[0m\u001b[0mcumulative_drift_rates\u001b[0m\u001b[0;34m,\u001b[0m \u001b[0mcolor\u001b[0m \u001b[0;34m=\u001b[0m \u001b[0;34m'orchid'\u001b[0m\u001b[0;34m,\u001b[0m \u001b[0mbins\u001b[0m \u001b[0;34m=\u001b[0m \u001b[0;36m100\u001b[0m\u001b[0;34m)\u001b[0m\u001b[0;34m\u001b[0m\u001b[0;34m\u001b[0m\u001b[0m\n",
      "\u001b[0;32m<ipython-input-40-2b3180a43b17>\u001b[0m in \u001b[0;36mpercentage_of_central_values\u001b[0;34m(percent, list_)\u001b[0m\n\u001b[1;32m      1\u001b[0m \u001b[0;32mdef\u001b[0m \u001b[0mpercentage_of_central_values\u001b[0m\u001b[0;34m(\u001b[0m\u001b[0mpercent\u001b[0m\u001b[0;34m,\u001b[0m \u001b[0mlist_\u001b[0m\u001b[0;34m)\u001b[0m\u001b[0;34m:\u001b[0m\u001b[0;34m\u001b[0m\u001b[0;34m\u001b[0m\u001b[0m\n\u001b[1;32m      2\u001b[0m     \u001b[0;31m#This function will provide bounds on the histogram for an any percent of the values\u001b[0m\u001b[0;34m\u001b[0m\u001b[0;34m\u001b[0m\u001b[0;34m\u001b[0m\u001b[0m\n\u001b[0;32m----> 3\u001b[0;31m     \u001b[0msorted_list\u001b[0m \u001b[0;34m=\u001b[0m \u001b[0msorted\u001b[0m\u001b[0;34m(\u001b[0m\u001b[0mmap\u001b[0m\u001b[0;34m(\u001b[0m\u001b[0mabs\u001b[0m\u001b[0;34m,\u001b[0m \u001b[0mlist_\u001b[0m\u001b[0;34m)\u001b[0m\u001b[0;34m)\u001b[0m\u001b[0;34m\u001b[0m\u001b[0;34m\u001b[0m\u001b[0m\n\u001b[0m\u001b[1;32m      4\u001b[0m     \u001b[0mnumber_of_entries\u001b[0m \u001b[0;34m=\u001b[0m \u001b[0mround\u001b[0m\u001b[0;34m(\u001b[0m\u001b[0mlen\u001b[0m\u001b[0;34m(\u001b[0m\u001b[0mlist_\u001b[0m\u001b[0;34m)\u001b[0m \u001b[0;34m*\u001b[0m \u001b[0mpercent\u001b[0m\u001b[0;34m/\u001b[0m\u001b[0;36m100\u001b[0m\u001b[0;34m)\u001b[0m\u001b[0;34m\u001b[0m\u001b[0;34m\u001b[0m\u001b[0m\n\u001b[1;32m      5\u001b[0m     \u001b[0mcentral_values\u001b[0m \u001b[0;34m=\u001b[0m \u001b[0msorted_list\u001b[0m\u001b[0;34m[\u001b[0m\u001b[0;36m0\u001b[0m\u001b[0;34m:\u001b[0m\u001b[0mnumber_of_entries\u001b[0m\u001b[0;34m]\u001b[0m\u001b[0;34m\u001b[0m\u001b[0;34m\u001b[0m\u001b[0m\n",
      "\u001b[0;31mTypeError\u001b[0m: bad operand type for abs(): 'list'"
     ]
    },
    {
     "data": {
      "text/plain": [
       "<Figure size 864x576 with 0 Axes>"
      ]
     },
     "metadata": {},
     "output_type": "display_data"
    }
   ],
   "source": [
    "#Logarithmically Scaled Histogram with Central 99%\n",
    "plt.figure(figsize = [12,8])\n",
    "log_markers = percentage_of_central_values(99, cumulative_drift_rates)\n",
    "limit_log = log_markers[-1]\n",
    "plt.hist(cumulative_drift_rates, color = 'orchid', bins = 100)\n",
    "plt.axvline(x = limit_log, color = 'k', linestyle = 'dashed')\n",
    "plt.axvline(x = -limit_log, color = 'k', linestyle = 'dashed')\n",
    "plt.text(1.5*limit_log, 10**4, '99%')\n",
    "plt.xlabel('Drift Rate (Hz)')\n",
    "plt.yscale('log')\n",
    "plt.savefig('log_histogram.png')\n",
    "plt.title('Abundancy of Drift Rates in the NEA')\n",
    "plt.show()"
   ]
  },
  {
   "cell_type": "code",
   "execution_count": 254,
   "id": "204a8837",
   "metadata": {},
   "outputs": [
    {
     "data": {
      "image/png": "[encoded data removed]",
      "text/plain": [
       "<Figure size 864x576 with 1 Axes>"
      ]
     },
     "metadata": {
      "needs_background": "light"
     },
     "output_type": "display_data"
    }
   ],
   "source": [
    "#Linearly Scaled Histogram by Discovery Method\n",
    "plt.figure(figsize = [12,8])\n",
    "labels = df['discoverymethod'].value_counts()[:8].index.tolist()\n",
    "plt.hist(sorted_by_disc_method_dr, bins = 1000, color = ['maroon', 'red','orange', 'y', 'lime', 'cyan', 'm', 'k'],  stacked = True)\n",
    "plt.xlabel('Drift Rate (Hz)')\n",
    "plt.yscale('linear')\n",
    "plt.legend(labels)\n",
    "plt.title('Abundancy of Drift Rates in the NEA')\n",
    "plt.savefig('linear_disc_method_histogram.png')\n",
    "plt.show()"
   ]
  }
 ],
 "metadata": {
  "kernelspec": {
   "display_name": "Python 3",
   "language": "python",
   "name": "python3"
  },
  "language_info": {
   "codemirror_mode": {
    "name": "ipython",
    "version": 3
   },
   "file_extension": ".py",
   "mimetype": "text/x-python",
   "name": "python",
   "nbconvert_exporter": "python",
   "pygments_lexer": "ipython3",
   "version": "3.8.8"
  }
 },
 "nbformat": 4,
 "nbformat_minor": 5
}
