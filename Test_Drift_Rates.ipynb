{
  "nbformat": 4,
  "nbformat_minor": 0,
  "metadata": {
    "colab": {
      "name": "Test_Drift_Rates.ipynb",
      "provenance": [],
      "collapsed_sections": [],
      "include_colab_link": true
    },
    "kernelspec": {
      "name": "python3",
      "display_name": "Python 3"
    },
    "language_info": {
      "name": "python"
    }
  },
  "cells": [
    {
      "cell_type": "markdown",
      "metadata": {
        "id": "view-in-github",
        "colab_type": "text"
      },
      "source": [
        "<a href=\"https://colab.research.google.com/github/bricktoast/Test-Drift-Rates/blob/main/Test_Drift_Rates.ipynb\" target=\"_parent\"><img src=\"https://colab.research.google.com/assets/colab-badge.svg\" alt=\"Open In Colab\"/></a>"
      ]
    },
    {
      "cell_type": "markdown",
      "metadata": {
        "id": "8oMcQDVAyWMx"
      },
      "source": [
        "##Definition of Variables Used\n",
        "\n",
        "- f_r is the frequency of the transmitter in its rest frame\n",
        "- r_t/p_t is the radius/period of the transmitter/transmitter's host body\n",
        "- m_c is the mass of the object the transmitter is orbiting\n",
        "- r_to is the radius of orbit by the transmitter around its central object\n",
        "- a_o is any other accelerations related to the transmitter\n",
        "- r_eo is the radius of the earth's orbit around the sun in m"
      ]
    },
    {
      "cell_type": "code",
      "metadata": {
        "id": "QVt9Lmaw1i9k"
      },
      "source": [
        "import astropy\n",
        "from astropy import constants as const\n",
        "from astropy import units as u"
      ],
      "execution_count": null,
      "outputs": []
    },
    {
      "cell_type": "code",
      "metadata": {
        "id": "DRVpNewAFT_R"
      },
      "source": [
        "def drift_rate(f_r, r_t, p_t, m_c, r_to, a_o):\n",
        "  pi = 3.14\n",
        "  p_e = 86400 *u.second #period of Earth's rotation in seconds\n",
        "\n",
        "  #your 2nd and 4th terms were double-counting the Earth's rotation - \n",
        "  #set the transmitter's drift parameters to zero to figure out the max you can get\n",
        "  #from the GBT alone, e.g.:\n",
        "\n",
        "  f_dot = (f_r/const.c)* ((4*(pi**2)*r_t)/(p_t**2) + #term 1: rotation of transmitter's planet\n",
        "          (4*(pi**2)*const.R_earth)/(p_e**2) + #term 2: rotation of Earth\n",
        "          const.G * m_c/(r_to)**2 + #term 3: orbit of transmitter's planet around host star\n",
        "          const.G * const.M_sun/(const.au)**2 + #term 4: orbit of Earth around Sun\n",
        "          a_o) #term 5: additional constant (usually 0)\n",
        "  return f_dot"
      ],
      "execution_count": 17,
      "outputs": []
    },
    {
      "cell_type": "code",
      "metadata": {
        "id": "Ssdjcjj9l57X"
      },
      "source": [
        "f_r_gbt = 8 * 10**9 * u.Hz \n",
        "r_t_gbt = 6371000 *u.m #radius of the Earth in meters\n",
        "p_t_gbt = 86400 * u.s #period of Earth's rotation in seconds\n",
        "m_c_gbt = 2 * 10**30 *u.kg #mass of sun in kg\n",
        "r_to_gbt = 1.52 * 10**11 * u.m #radius of the earth's orbit around the sun in m -> your value may have been miles?\n",
        "a_o_gbt = 0 *u.m / u.s /u.s #no additional accelerations"
      ],
      "execution_count": 18,
      "outputs": []
    },
    {
      "cell_type": "markdown",
      "metadata": {
        "id": "Cf84sNj83xtC"
      },
      "source": [
        "These are the parameters for the Green Bank Telescope"
      ]
    },
    {
      "cell_type": "code",
      "metadata": {
        "colab": {
          "base_uri": "https://localhost:8080/"
        },
        "id": "16aOVVV134Tv",
        "outputId": "bee8c144-ef97-4f2a-efb9-4ca1db580bc3"
      },
      "source": [
        "gbt_drift_rate = drift_rate(f_r_gbt, r_t_gbt, p_t_gbt, m_c_gbt, r_to_gbt, a_o_gbt)\n",
        "print(gbt_drift_rate)"
      ],
      "execution_count": 19,
      "outputs": [
        {
          "output_type": "stream",
          "text": [
            "2.109804345123569 Hz / s\n"
          ],
          "name": "stdout"
        }
      ]
    },
    {
      "cell_type": "code",
      "metadata": {
        "colab": {
          "base_uri": "https://localhost:8080/"
        },
        "id": "4mrkcRMYCaHU",
        "outputId": "5d215c42-a119-46e7-9f3f-dc0fe88a3e32"
      },
      "source": [
        "r_t_test = 2*r_t_gbt \n",
        "r_to_test = 0.5*r_to_gbt\n",
        "test_drift_rate = drift_rate(f_r_gbt, r_t_test, p_t_gbt, m_c_gbt, r_to_test, a_o_gbt)\n",
        "print(test_drift_rate)"
      ],
      "execution_count": 20,
      "outputs": [
        {
          "output_type": "stream",
          "text": [
            "3.4705244518357143 Hz / s\n"
          ],
          "name": "stdout"
        }
      ]
    }
  ]
}