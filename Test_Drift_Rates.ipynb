{
  "nbformat": 4,
  "nbformat_minor": 0,
  "metadata": {
    "colab": {
      "name": "Test_Drift_Rates.ipynb",
      "provenance": [],
      "authorship_tag": "ABX9TyPtAJWkqN99lFoiLoeW2OWz",
      "include_colab_link": true
    },
    "kernelspec": {
      "name": "python3",
      "display_name": "Python 3"
    },
    "language_info": {
      "name": "python"
    }
  },
  "cells": [
    {
      "cell_type": "markdown",
      "metadata": {
        "id": "view-in-github",
        "colab_type": "text"
      },
      "source": [
        "<a href=\"https://colab.research.google.com/github/bricktoast/Test-Drift-Rates/blob/main/Test_Drift_Rates.ipynb\" target=\"_parent\"><img src=\"https://colab.research.google.com/assets/colab-badge.svg\" alt=\"Open In Colab\"/></a>"
      ]
    },
    {
      "cell_type": "code",
      "metadata": {
        "id": "DRVpNewAFT_R"
      },
      "source": [
        "def drift_rate(f_r, r_t, p_t, m_c, r_c, a_o):\n",
        "  #f_r is the frequency of the transmitter in its rest frame\n",
        "  #r_t/p_t is the radius/period of the transmitter/transmitter's host body\n",
        "  #m_c is the mass of the object the transmitter is orbiting\n",
        "  #r_c is the radius of orbit by the transmitter around its central object\n",
        "  #a_o is any other accelerations related to the transmitter\n",
        "  G = 6.67 * 10**(-11) #in SI, gravitational constant\n",
        "  pi = 3.14\n",
        "  c = 3 * 10**8 #m/s, speed of light\n",
        "\n",
        "  #your 2nd and 4th terms were double-counting the Earth's rotation - \n",
        "  #set the transmitter's drift parameters to zero to figure out the max you can get\n",
        "  #from the GBT alone, e.g.:\n",
        "\n",
        "  f_dot = (f_r/c)*((4*(pi**2)*r_t)/(p_t**2) + G * m_c/(r_c)**2 + a_o)\n",
        "  print(f_r/c)\n",
        "  print((4*(pi**2)*r_t)/(p_t**2))\n",
        "  print(G*m_c/(r_c)**2)\n",
        "  return f_dot"
      ],
      "execution_count": 1,
      "outputs": []
    },
    {
      "cell_type": "code",
      "metadata": {
        "id": "Ssdjcjj9l57X"
      },
      "source": [
        "f_r_gbt = 8 * 10**9 #Hz\n",
        "r_t_gbt = 6371000 #radius of the Earth in meters\n",
        "p_t_gbt = 86400 #period of Earth's rotation in seconds\n",
        "m_c_gbt = 2 * 10**30 #mass of sun in kg\n",
        "r_c_gbt = 1.52 * 10**11 #radius of the earth's orbit around the sun in m -> your value may have been miles?\n",
        "\n",
        "a_o_gbt = 0 #no additional accelerations"
      ],
      "execution_count": 2,
      "outputs": []
    },
    {
      "cell_type": "markdown",
      "metadata": {
        "id": "Cf84sNj83xtC"
      },
      "source": [
        "These are the parameters for the Green Bank Telescope"
      ]
    },
    {
      "cell_type": "code",
      "metadata": {
        "colab": {
          "base_uri": "https://localhost:8080/"
        },
        "id": "16aOVVV134Tv",
        "outputId": "1751cc09-55bf-4cc8-cbdf-5819f0ccb9d4"
      },
      "source": [
        "gbt_drift_rate = drift_rate(f_r_gbt, r_t_gbt, p_t_gbt, m_c_gbt, r_c_gbt, a_o_gbt)\n",
        "print(gbt_drift_rate)"
      ],
      "execution_count": 3,
      "outputs": [
        {
          "output_type": "stream",
          "text": [
            "26.666666666666668\n",
            "0.03365886038237312\n",
            "0.0057738919667590025\n",
            "1.0515400626435232\n"
          ],
          "name": "stdout"
        }
      ]
    }
  ]
}