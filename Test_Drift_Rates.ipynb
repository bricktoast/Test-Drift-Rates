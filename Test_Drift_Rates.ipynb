{
  "nbformat": 4,
  "nbformat_minor": 0,
  "metadata": {
    "colab": {
      "name": "Test_Drift_Rates.ipynb",
      "provenance": [],
      "authorship_tag": "ABX9TyMSkz8ufT8tuCf8a7LRyse4",
      "include_colab_link": true
    },
    "kernelspec": {
      "name": "python3",
      "display_name": "Python 3"
    },
    "language_info": {
      "name": "python"
    }
  },
  "cells": [
    {
      "cell_type": "markdown",
      "metadata": {
        "id": "view-in-github",
        "colab_type": "text"
      },
      "source": [
        "<a href=\"https://colab.research.google.com/github/bricktoast/Test-Drift-Rates/blob/main/Test_Drift_Rates.ipynb\" target=\"_parent\"><img src=\"https://colab.research.google.com/assets/colab-badge.svg\" alt=\"Open In Colab\"/></a>"
      ]
    },
    {
      "cell_type": "code",
      "metadata": {
        "id": "DRVpNewAFT_R"
      },
      "source": [
        "def drift_rate(f_r, r_t, p_t, m_c, r_c, a_o):\n",
        "  #f_r is the frequency of the transmitter in its rest frame\n",
        "  #r_t/p_t is the radius/period of the transmitter/transmitter's host body\n",
        "  #m_c is the mass of the object the transmitter is orbiting\n",
        "  #r_c is the radius of orbit by the transmitter around its central object\n",
        "  #a_o is any other accelerations related to the transmitter\n",
        "  f_dot = (f_r/(3*10**8))*((4*3.14**2*6371000)/(86400**2) + (4*3.14**2*r_t)/p_t**2+ 6.67 * 10**-11 * 2 * 10**30/(940 * 10**9)**2 + 6.67 * 10**-11 * m_c/r_c**2 + a_o)\n",
        "  return f_dot\n"
      ],
      "execution_count": null,
      "outputs": []
    },
    {
      "cell_type": "code",
      "metadata": {
        "id": "Ssdjcjj9l57X"
      },
      "source": [
        "f_r_gbt = 8 * 10**9\n",
        "a_o_gbt = 0\n",
        "r_t_gbt = 6371000\n",
        "p_t_gbt = 86400\n",
        "m_c_gbt = 2 * 10**30\n",
        "r_c_gbt = 940 * 10**9"
      ],
      "execution_count": null,
      "outputs": []
    },
    {
      "cell_type": "markdown",
      "metadata": {
        "id": "Cf84sNj83xtC"
      },
      "source": [
        "These are the parameters for the Green Bank Telescope"
      ]
    },
    {
      "cell_type": "code",
      "metadata": {
        "colab": {
          "base_uri": "https://localhost:8080/"
        },
        "id": "16aOVVV134Tv",
        "outputId": "4e6719de-26cb-4322-97f0-a400f65bc0df"
      },
      "source": [
        "gbt_drift_rate = drift_rate(f_r_gbt, r_t_gbt, p_t_gbt, m_c_gbt, r_c_gbt, a_o_gbt)\n",
        "print(gbt_drift_rate)"
      ],
      "execution_count": null,
      "outputs": [
        {
          "output_type": "stream",
          "text": [
            "1.8031911292509362\n"
          ],
          "name": "stdout"
        }
      ]
    }
  ]
}